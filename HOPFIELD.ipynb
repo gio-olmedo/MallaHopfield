{
 "cells": [
  {
   "cell_type": "code",
   "execution_count": 1,
   "metadata": {
    "colab": {
     "base_uri": "https://localhost:8080/",
     "height": 340
    },
    "executionInfo": {
     "elapsed": 191,
     "status": "error",
     "timestamp": 1649782874348,
     "user": {
      "displayName": "JORGE GIOVANNI OLMEDO BONES",
      "userId": "18038073769794862407"
     },
     "user_tz": 300
    },
    "id": "fU3VVsiMqid2",
    "outputId": "76159ba4-f667-4791-bf77-94df19fe0712"
   },
   "outputs": [],
   "source": [
    "import numpy as np\n",
    "np.random.seed(1)\n",
    "from matplotlib import pyplot as plt\n",
    "import matplotlib.image as mpimg\n",
    "import skimage.data\n",
    "from skimage.color import rgb2gray\n",
    "from skimage.color import rgba2rgb\n",
    "from skimage.filters import threshold_mean\n",
    "from skimage.transform import resize\n",
    "import network\n",
    "from PIL import Image"
   ]
  },
  {
   "cell_type": "code",
   "execution_count": 2,
   "metadata": {
    "executionInfo": {
     "elapsed": 232,
     "status": "ok",
     "timestamp": 1649781966408,
     "user": {
      "displayName": "JORGE GIOVANNI OLMEDO BONES",
      "userId": "18038073769794862407"
     },
     "user_tz": 300
    },
    "id": "SKsdkZsGqt4A"
   },
   "outputs": [],
   "source": [
    "def get_corrupted_input(input, corruption_level):\n",
    "    \n",
    "    corrupted = np.copy(input)\n",
    "    inv = np.random.binomial(n=1, p=corruption_level, size=len(input))\n",
    "    for i, v in enumerate(input):\n",
    "        if inv[i]:\n",
    "            corrupted[i] = -1 * v\n",
    "\n",
    "    return corrupted"
   ]
  },
  {
   "cell_type": "code",
   "execution_count": 3,
   "metadata": {
    "executionInfo": {
     "elapsed": 377,
     "status": "ok",
     "timestamp": 1649782034354,
     "user": {
      "displayName": "JORGE GIOVANNI OLMEDO BONES",
      "userId": "18038073769794862407"
     },
     "user_tz": 300
    },
    "id": "rJDsKZe2qwzq"
   },
   "outputs": [],
   "source": [
    "def reshape(data):\n",
    "    dim = int(np.sqrt(len(data)))\n",
    "    data = np.reshape(data, (dim, dim))\n",
    "    return data"
   ]
  },
  {
   "cell_type": "code",
   "execution_count": 4,
   "metadata": {
    "executionInfo": {
     "elapsed": 230,
     "status": "ok",
     "timestamp": 1649782036276,
     "user": {
      "displayName": "JORGE GIOVANNI OLMEDO BONES",
      "userId": "18038073769794862407"
     },
     "user_tz": 300
    },
    "id": "v-jf_DQgqxZg"
   },
   "outputs": [],
   "source": [
    "def plot(data, test, predicted, figsize=(5, 6)):\n",
    "    data = [reshape(d) for d in data]\n",
    "    test = [reshape(d) for d in test]\n",
    "    predicted = [reshape(d) for d in predicted]\n",
    "\n",
    "    fig, axarr = plt.subplots(len(data), 3, figsize=figsize)\n",
    "    for i in range(len(data)):\n",
    "        if i==0:\n",
    "            axarr[i, 0].set_title('Train data')\n",
    "            axarr[i, 1].set_title(\"Input data\")\n",
    "            axarr[i, 2].set_title('Output data')\n",
    "\n",
    "        axarr[i, 0].imshow(data[i])\n",
    "        axarr[i, 0].axis('off')\n",
    "        axarr[i, 1].imshow(test[i])\n",
    "        axarr[i, 1].axis('off')\n",
    "        axarr[i, 2].imshow(predicted[i])\n",
    "        axarr[i, 2].axis('off')\n",
    "\n",
    "    plt.tight_layout()\n",
    "    plt.savefig(\"result.png\")\n",
    "    plt.show()"
   ]
  },
  {
   "cell_type": "code",
   "execution_count": 5,
   "metadata": {
    "executionInfo": {
     "elapsed": 198,
     "status": "ok",
     "timestamp": 1649782038376,
     "user": {
      "displayName": "JORGE GIOVANNI OLMEDO BONES",
      "userId": "18038073769794862407"
     },
     "user_tz": 300
    },
    "id": "ZnE2T0WMqxff"
   },
   "outputs": [],
   "source": [
    "def preprocessing(img, w=2, h=2):\n",
    "    # Resize image\n",
    "    img = resize(img, (w,h), mode='reflect')\n",
    "\n",
    "    # Thresholding\n",
    "    thresh = threshold_mean(img)\n",
    "    binary = img > thresh\n",
    "    shift = 2*(binary*1)-1 # Boolian to int\n",
    "\n",
    "    # Reshape\n",
    "    flatten = np.reshape(shift, (w*h))\n",
    "    return flatten"
   ]
  },
  {
   "cell_type": "code",
   "execution_count": 6,
   "metadata": {
    "colab": {
     "base_uri": "https://localhost:8080/",
     "height": 340
    },
    "executionInfo": {
     "elapsed": 514,
     "status": "error",
     "timestamp": 1649782044886,
     "user": {
      "displayName": "JORGE GIOVANNI OLMEDO BONES",
      "userId": "18038073769794862407"
     },
     "user_tz": 300
    },
    "id": "4w1Ie5PZqxi-",
    "outputId": "2fb8f221-65b4-4a9c-8f9d-d4d5164b12f3"
   },
   "outputs": [
    {
     "name": "stdout",
     "output_type": "stream",
     "text": [
      "Start to data preprocessing...\n",
      "Start to train weights...\n"
     ]
    },
    {
     "name": "stderr",
     "output_type": "stream",
     "text": [
      "100%|███████████████████████████████████████████| 4/4 [00:00<00:00, 6200.01it/s]\n"
     ]
    },
    {
     "name": "stdout",
     "output_type": "stream",
     "text": [
      "Start to predict...\n"
     ]
    },
    {
     "name": "stderr",
     "output_type": "stream",
     "text": [
      "100%|███████████████████████████████████████████| 4/4 [00:00<00:00, 2518.72it/s]"
     ]
    },
    {
     "name": "stdout",
     "output_type": "stream",
     "text": [
      "Show prediction results...\n"
     ]
    },
    {
     "name": "stderr",
     "output_type": "stream",
     "text": [
      "\n"
     ]
    },
    {
     "data": {
      "image/png": "[encoded data removed]",
      "text/plain": [
       "<Figure size 360x432 with 12 Axes>"
      ]
     },
     "metadata": {
      "needs_background": "light"
     },
     "output_type": "display_data"
    },
    {
     "name": "stdout",
     "output_type": "stream",
     "text": [
      "Show network weights matrix...\n"
     ]
    },
    {
     "data": {
      "image/png": "[encoded data removed]",
      "text/plain": [
       "<Figure size 432x360 with 2 Axes>"
      ]
     },
     "metadata": {
      "needs_background": "light"
     },
     "output_type": "display_data"
    }
   ],
   "source": [
    "def main():\n",
    "    # Load data\n",
    "    camera = rgb2gray(rgba2rgb(np.array(Image.open('arriba.png'))))\n",
    "    astronaut = rgb2gray(rgba2rgb(np.array(Image.open('arriba.png'))))\n",
    "    horse = rgb2gray(rgba2rgb(np.array(Image.open('abajo.png'))))\n",
    "    coffee = rgb2gray(rgba2rgb(np.array(Image.open('abajo.png'))))\n",
    "\n",
    "    # Marge data\n",
    "    data = [camera, astronaut, horse, coffee]\n",
    "\n",
    "    # Preprocessing\n",
    "    print(\"Start to data preprocessing...\")\n",
    "    data = [preprocessing(d) for d in data]\n",
    "\n",
    "    # Create Hopfield Network Model\n",
    "    model = network.HopfieldNetwork()\n",
    "    model.train_weights(data)\n",
    "\n",
    "    # Generate testset\n",
    "    test = [get_corrupted_input(d, 0.3) for d in data]\n",
    "    \n",
    "    uno = np.array([-1,1,1,1])\n",
    "    dos = np.array([1,-1,1,1])\n",
    "    tres = np.array([1,1,-1,1])\n",
    "    cuatro = np.array([1,1,1,-1])\n",
    "\n",
    "    test2 = [uno, dos, tres, cuatro]\n",
    "\n",
    "    predicted = model.predict(test, threshold=0, asyn=False)\n",
    "    print(\"Show prediction results...\")\n",
    "    plot(data, test2, predicted)\n",
    "    print(\"Show network weights matrix...\")\n",
    "    model.plot_weights()\n",
    "\n",
    "if __name__ == '__main__':\n",
    "    main()"
   ]
  },
  {
   "cell_type": "code",
   "execution_count": null,
   "metadata": {},
   "outputs": [],
   "source": []
  },
  {
   "cell_type": "code",
   "execution_count": null,
   "metadata": {},
   "outputs": [],
   "source": []
  }
 ],
 "metadata": {
  "colab": {
   "authorship_tag": "ABX9TyOBXAWlJFO/8kFHakZl0voV",
   "mount_file_id": "15bQll8jMN6hGxyY2lYxLsQJ7z_HMGSXs",
   "name": "HOPFIELD.ipynb",
   "provenance": []
  },
  "kernelspec": {
   "display_name": "Python 3 (ipykernel)",
   "language": "python",
   "name": "python3"
  },
  "language_info": {
   "codemirror_mode": {
    "name": "ipython",
    "version": 3
   },
   "file_extension": ".py",
   "mimetype": "text/x-python",
   "name": "python",
   "nbconvert_exporter": "python",
   "pygments_lexer": "ipython3",
   "version": "3.9.7"
  }
 },
 "nbformat": 4,
 "nbformat_minor": 1
}
